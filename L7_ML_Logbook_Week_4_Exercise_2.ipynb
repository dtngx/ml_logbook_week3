{
  "nbformat": 4,
  "nbformat_minor": 0,
  "metadata": {
    "colab": {
      "name": "L7-ML Logbook Week 4 Exercise 2.ipynb",
      "provenance": [],
      "collapsed_sections": [],
      "include_colab_link": true
    },
    "kernelspec": {
      "name": "python3",
      "display_name": "Python 3"
    }
  },
  "cells": [
    {
      "cell_type": "markdown",
      "metadata": {
        "id": "view-in-github",
        "colab_type": "text"
      },
      "source": [
        "<a href=\"https://colab.research.google.com/github/dtngx/ml_logbook_week3/blob/main/L7_ML_Logbook_Week_4_Exercise_2.ipynb\" target=\"_parent\"><img src=\"https://colab.research.google.com/assets/colab-badge.svg\" alt=\"Open In Colab\"/></a>"
      ]
    },
    {
      "cell_type": "markdown",
      "metadata": {
        "id": "Wr50_5DAOA5u"
      },
      "source": [
        "<img src='https://drive.google.com/uc?id=1tqYIvII8lJ_FnqE6ugS21n4s93kMwTLy' />"
      ]
    },
    {
      "cell_type": "markdown",
      "metadata": {
        "id": "rMyMjp3JOCds"
      },
      "source": [
        "## Level-7 Machine Learning\n",
        "## School of Computing and Engineering, University of West London"
      ]
    },
    {
      "cell_type": "markdown",
      "metadata": {
        "id": "VGau09FFA3eC"
      },
      "source": [
        "# Basics"
      ]
    },
    {
      "cell_type": "markdown",
      "metadata": {
        "id": "XBDIOSIW7CP3"
      },
      "source": [
        "Often data is stored in comma separated values (CSV) files.    For the remainder of this lab, we'll be working with [automobile data](https://stat.ethz.ch/R-manual/R-devel/library/datasets/html/mtcars.html), where we've extracted relevant parts below.\n",
        "\n",
        "Note that CSV files can be output by any spreadsheet software, and are plain text, hence are a great way to share data. "
      ]
    },
    {
      "cell_type": "markdown",
      "metadata": {
        "id": "hZDfS5mA7CP3"
      },
      "source": [
        "### Importing data with pandas\n",
        "\n",
        "Now let's read in our automobile data as a pandas *dataframe* structure.  "
      ]
    },
    {
      "cell_type": "code",
      "metadata": {
        "id": "tD7TPi-u7CP3"
      },
      "source": [
        "import pandas as pd"
      ],
      "execution_count": null,
      "outputs": []
    },
    {
      "cell_type": "code",
      "metadata": {
        "id": "XeeLSddYT9JU",
        "outputId": "044a0743-4756-4000-f33f-cadc56690c04",
        "colab": {
          "base_uri": "https://localhost:8080/",
          "height": 34
        }
      },
      "source": [
        "# Importing drive method from colab for accessing google drive\n",
        "from google.colab import drive\n",
        "\n",
        "# Mounting drive\n",
        "# This will require authentication : Follow the steps as guided\n",
        "drive.mount('/content/drive')"
      ],
      "execution_count": null,
      "outputs": [
        {
          "output_type": "stream",
          "text": [
            "Mounted at /content/drive\n"
          ],
          "name": "stdout"
        }
      ]
    },
    {
      "cell_type": "code",
      "metadata": {
        "id": "EZH8dGJ07CP4",
        "outputId": "12bb3d76-ec45-49ff-a07c-9fa8d1acb5d0",
        "colab": {
          "base_uri": "https://localhost:8080/",
          "height": 34
        }
      },
      "source": [
        "# Read in the csv files\n",
        "dfcars=pd.read_csv(\"/content/drive/My Drive/Colab Notebooks/UWL/MSc-ML/mtcars.csv\")\n",
        "type(dfcars)"
      ],
      "execution_count": null,
      "outputs": [
        {
          "output_type": "execute_result",
          "data": {
            "text/plain": [
              "pandas.core.frame.DataFrame"
            ]
          },
          "metadata": {
            "tags": []
          },
          "execution_count": 3
        }
      ]
    },
    {
      "cell_type": "code",
      "metadata": {
        "id": "3egRzBPs7CP5",
        "outputId": "dfb98b6d-1675-4d74-8db8-0858a6c6df3f",
        "colab": {
          "base_uri": "https://localhost:8080/",
          "height": 195
        }
      },
      "source": [
        "dfcars.head()"
      ],
      "execution_count": null,
      "outputs": [
        {
          "output_type": "execute_result",
          "data": {
            "text/html": [
              "<div>\n",
              "<style scoped>\n",
              "    .dataframe tbody tr th:only-of-type {\n",
              "        vertical-align: middle;\n",
              "    }\n",
              "\n",
              "    .dataframe tbody tr th {\n",
              "        vertical-align: top;\n",
              "    }\n",
              "\n",
              "    .dataframe thead th {\n",
              "        text-align: right;\n",
              "    }\n",
              "</style>\n",
              "<table border=\"1\" class=\"dataframe\">\n",
              "  <thead>\n",
              "    <tr style=\"text-align: right;\">\n",
              "      <th></th>\n",
              "      <th>model</th>\n",
              "      <th>mpg</th>\n",
              "      <th>cyl</th>\n",
              "      <th>disp</th>\n",
              "      <th>hp</th>\n",
              "      <th>drat</th>\n",
              "      <th>wt</th>\n",
              "      <th>qsec</th>\n",
              "      <th>vs</th>\n",
              "      <th>am</th>\n",
              "      <th>gear</th>\n",
              "      <th>carb</th>\n",
              "    </tr>\n",
              "  </thead>\n",
              "  <tbody>\n",
              "    <tr>\n",
              "      <th>0</th>\n",
              "      <td>Mazda RX4</td>\n",
              "      <td>21.0</td>\n",
              "      <td>6</td>\n",
              "      <td>160.0</td>\n",
              "      <td>110</td>\n",
              "      <td>3.90</td>\n",
              "      <td>2.620</td>\n",
              "      <td>16.46</td>\n",
              "      <td>0</td>\n",
              "      <td>1</td>\n",
              "      <td>4</td>\n",
              "      <td>4</td>\n",
              "    </tr>\n",
              "    <tr>\n",
              "      <th>1</th>\n",
              "      <td>Mazda RX4 Wag</td>\n",
              "      <td>21.0</td>\n",
              "      <td>6</td>\n",
              "      <td>160.0</td>\n",
              "      <td>110</td>\n",
              "      <td>3.90</td>\n",
              "      <td>2.875</td>\n",
              "      <td>17.02</td>\n",
              "      <td>0</td>\n",
              "      <td>1</td>\n",
              "      <td>4</td>\n",
              "      <td>4</td>\n",
              "    </tr>\n",
              "    <tr>\n",
              "      <th>2</th>\n",
              "      <td>Datsun 710</td>\n",
              "      <td>22.8</td>\n",
              "      <td>4</td>\n",
              "      <td>108.0</td>\n",
              "      <td>93</td>\n",
              "      <td>3.85</td>\n",
              "      <td>2.320</td>\n",
              "      <td>18.61</td>\n",
              "      <td>1</td>\n",
              "      <td>1</td>\n",
              "      <td>4</td>\n",
              "      <td>1</td>\n",
              "    </tr>\n",
              "    <tr>\n",
              "      <th>3</th>\n",
              "      <td>Hornet 4 Drive</td>\n",
              "      <td>21.4</td>\n",
              "      <td>6</td>\n",
              "      <td>258.0</td>\n",
              "      <td>110</td>\n",
              "      <td>3.08</td>\n",
              "      <td>3.215</td>\n",
              "      <td>19.44</td>\n",
              "      <td>1</td>\n",
              "      <td>0</td>\n",
              "      <td>3</td>\n",
              "      <td>1</td>\n",
              "    </tr>\n",
              "    <tr>\n",
              "      <th>4</th>\n",
              "      <td>Hornet Sportabout</td>\n",
              "      <td>18.7</td>\n",
              "      <td>8</td>\n",
              "      <td>360.0</td>\n",
              "      <td>175</td>\n",
              "      <td>3.15</td>\n",
              "      <td>3.440</td>\n",
              "      <td>17.02</td>\n",
              "      <td>0</td>\n",
              "      <td>0</td>\n",
              "      <td>3</td>\n",
              "      <td>2</td>\n",
              "    </tr>\n",
              "  </tbody>\n",
              "</table>\n",
              "</div>"
            ],
            "text/plain": [
              "               model   mpg  cyl   disp   hp  ...   qsec  vs  am  gear  carb\n",
              "0          Mazda RX4  21.0    6  160.0  110  ...  16.46   0   1     4     4\n",
              "1      Mazda RX4 Wag  21.0    6  160.0  110  ...  17.02   0   1     4     4\n",
              "2         Datsun 710  22.8    4  108.0   93  ...  18.61   1   1     4     1\n",
              "3     Hornet 4 Drive  21.4    6  258.0  110  ...  19.44   1   0     3     1\n",
              "4  Hornet Sportabout  18.7    8  360.0  175  ...  17.02   0   0     3     2\n",
              "\n",
              "[5 rows x 12 columns]"
            ]
          },
          "metadata": {
            "tags": []
          },
          "execution_count": 10
        }
      ]
    },
    {
      "cell_type": "markdown",
      "metadata": {
        "id": "4zSGv6AY7CP6"
      },
      "source": [
        "What we have now is a spreadsheet with indexed rows and named columns, called a *dataframe* in pandas.  `dfcars` is an *instance* of the pd.DataFrame *class*, created by calling the pd.read_csv \"constructor function\".\n",
        "\n",
        "The take-away is that `dfcars` is a dataframe object, and it has methods (functions) belonging to it. For example, `df.head()` is a method that shows the first 5 rows of the dataframe.\n",
        "\n",
        "A pandas dataframe is a set of columns pasted together into a spreadsheet, as shown in the schematic below, which is taken from the cheatsheet above.  The columns in pandas are called *series* objects.\n",
        "\n",
        "![](../images/pandastruct.png)"
      ]
    },
    {
      "cell_type": "markdown",
      "metadata": {
        "id": "h-f9Velw7CQG"
      },
      "source": [
        "And we can produce a histogram from these values (more about plotting in next tutorial)"
      ]
    },
    {
      "cell_type": "code",
      "metadata": {
        "id": "Eo7VUrOL7CQG",
        "outputId": "a967d154-9c3b-4057-ddfb-c1238e899e60",
        "colab": {
          "base_uri": "https://localhost:8080/",
          "height": 295
        }
      },
      "source": [
        "# the .values isnt really need, a series behaves like a list for\n",
        "# plotting purposes\n",
        "import matplotlib.pyplot as plt\n",
        "plt.hist(dfcars.mpg.values, bins=20);\n",
        "plt.xlabel(\"mpg\");\n",
        "plt.ylabel(\"Frequency\")\n",
        "plt.title(\"Miles per Gallon\");"
      ],
      "execution_count": null,
      "outputs": [
        {
          "output_type": "display_data",
          "data": {
            "image/png": "[encoded data removed]",
            "text/plain": [
              "<Figure size 432x288 with 1 Axes>"
            ]
          },
          "metadata": {
            "tags": [],
            "needs_background": "light"
          }
        }
      ]
    },
    {
      "cell_type": "markdown",
      "metadata": {
        "id": "-LxdeB3jCv0f"
      },
      "source": [
        "# Exercise 2.1\n",
        "Use Pandas to plot the same histogram\n",
        "\n",
        "This is useful when you need to look into the sample distributions"
      ]
    },
    {
      "cell_type": "code",
      "metadata": {
        "id": "k_gTEgc27CQI"
      },
      "source": [
        "## Your code here"
      ],
      "execution_count": null,
      "outputs": []
    },
    {
      "cell_type": "markdown",
      "metadata": {
        "id": "jIl8vQ3LDjc4"
      },
      "source": [
        "# Scatter plot\n",
        "We often want to see co-variation among our columns, for example, miles/gallon versus weight. \n",
        "\n",
        "This can be done with a scatter plot."
      ]
    },
    {
      "cell_type": "code",
      "metadata": {
        "id": "YiUyCgvr7CQL",
        "outputId": "302131de-8679-43b5-dd3c-2c5d237d0168",
        "colab": {
          "base_uri": "https://localhost:8080/",
          "height": 283
        }
      },
      "source": [
        "plt.plot(dfcars.wt, dfcars.mpg, 'o');\n",
        "plt.xlabel(\"weight\");\n",
        "plt.ylabel(\"miles per gallon\");"
      ],
      "execution_count": null,
      "outputs": [
        {
          "output_type": "display_data",
          "data": {
            "image/png": "[encoded data removed]",
            "text/plain": [
              "<Figure size 432x288 with 1 Axes>"
            ]
          },
          "metadata": {
            "tags": [],
            "needs_background": "light"
          }
        }
      ]
    },
    {
      "cell_type": "markdown",
      "metadata": {
        "id": "39AirDKo7CQL"
      },
      "source": [
        "# Exercise 2.2 Use `scatter`instead of `plot` to generate the same figure"
      ]
    },
    {
      "cell_type": "code",
      "metadata": {
        "id": "0kxct-vsDtMh"
      },
      "source": [
        "## Your code here"
      ],
      "execution_count": null,
      "outputs": []
    },
    {
      "cell_type": "markdown",
      "metadata": {
        "id": "T8SZ3ePi7CQR"
      },
      "source": [
        "Suppose we'd like to save a figure to a file.  We do this by including the `savefig` command in the same cell as the plotting commands.  The file extension tells you how the file will be saved. "
      ]
    },
    {
      "cell_type": "code",
      "metadata": {
        "id": "3y47SByA7CQR",
        "outputId": "2c57cb47-9f74-4ee1-bd00-05ecb25f2159",
        "colab": {
          "base_uri": "https://localhost:8080/",
          "height": 283
        }
      },
      "source": [
        "plt.plot(dfcars.wt, dfcars.mpg, 'o')\n",
        "plt.xlabel(\"weight\");\n",
        "plt.ylabel(\"miles per gallon\");\n",
        "plt.savefig('/content/drive/My Drive/Colab Notebooks/UWL/MSc-ML/foo1.pdf')\n",
        "plt.savefig('/content/drive/My Drive/Colab Notebooks/UWL/MSc-ML/foo1.png', bbox_inches='tight') #less whitespace around image"
      ],
      "execution_count": null,
      "outputs": [
        {
          "output_type": "display_data",
          "data": {
            "image/png": "[encoded data removed]",
            "text/plain": [
              "<Figure size 432x288 with 1 Axes>"
            ]
          },
          "metadata": {
            "tags": [],
            "needs_background": "light"
          }
        }
      ]
    },
    {
      "cell_type": "markdown",
      "metadata": {
        "id": "KXWf05Io7CQS"
      },
      "source": [
        "And this is what the saved png looks like:\n",
        "\n",
        "<img src='https://drive.google.com/uc?id=1WiyE-DRBkW3S2mw0oaW2Kfep0rj_ywpr'/>\n",
        "\n",
        "<img src='https://drive.google.com/uc?id=12vatf59mSrSZRm9qAilr9YqwPdvXkI7b'/>"
      ]
    },
    {
      "cell_type": "markdown",
      "metadata": {
        "id": "oSd854R_7CQT"
      },
      "source": [
        "Below is a summary of the most commonly used `matplotlib` plotting routines.\n",
        "\n",
        "<img src='https://drive.google.com/uc?id=1-RC3tdzVe21okrVtG-MOMNbLxZ51rD5U'/>\n",
        "\n",
        "<img src='https://drive.google.com/uc?id=13z9h_d1yrGKGiRDLJ1ltrb6KWjh-3yB4'/>"
      ]
    },
    {
      "cell_type": "markdown",
      "metadata": {
        "id": "ia415GucFT_n"
      },
      "source": [
        "# Linear Regression Tasks"
      ]
    },
    {
      "cell_type": "code",
      "metadata": {
        "id": "tncbpVPZKXU6"
      },
      "source": [
        "#Matrices, Dataframe and Plotting Operations\n",
        "import numpy as np\n",
        "import pandas as pd\n",
        "import seaborn as sns\n",
        "import matplotlib\n",
        "import matplotlib.pyplot as plt\n",
        "%matplotlib inline"
      ],
      "execution_count": null,
      "outputs": []
    },
    {
      "cell_type": "markdown",
      "metadata": {
        "id": "K4pqFDiuIHX4"
      },
      "source": [
        "## Load the Bikeshare dataset\n"
      ]
    },
    {
      "cell_type": "code",
      "metadata": {
        "id": "rrVUCpyuKXVB",
        "outputId": "680ae9d9-a626-48cd-ec42-d65199ef3f9a",
        "colab": {
          "base_uri": "https://localhost:8080/",
          "height": 212
        }
      },
      "source": [
        "bikeshare = pd.read_csv('/content/drive/My Drive/Colab Notebooks/UWL/MSc-ML/bikeshare.csv')\n",
        "print(\"Length of Dataset:\",len(bikeshare))\n",
        "display(bikeshare.head())"
      ],
      "execution_count": null,
      "outputs": [
        {
          "output_type": "stream",
          "text": [
            "Length of Dataset: 731\n"
          ],
          "name": "stdout"
        },
        {
          "output_type": "display_data",
          "data": {
            "text/html": [
              "<div>\n",
              "<style scoped>\n",
              "    .dataframe tbody tr th:only-of-type {\n",
              "        vertical-align: middle;\n",
              "    }\n",
              "\n",
              "    .dataframe tbody tr th {\n",
              "        vertical-align: top;\n",
              "    }\n",
              "\n",
              "    .dataframe thead th {\n",
              "        text-align: right;\n",
              "    }\n",
              "</style>\n",
              "<table border=\"1\" class=\"dataframe\">\n",
              "  <thead>\n",
              "    <tr style=\"text-align: right;\">\n",
              "      <th></th>\n",
              "      <th>instant</th>\n",
              "      <th>dteday</th>\n",
              "      <th>season</th>\n",
              "      <th>yr</th>\n",
              "      <th>mnth</th>\n",
              "      <th>holiday</th>\n",
              "      <th>weekday</th>\n",
              "      <th>workingday</th>\n",
              "      <th>weathersit</th>\n",
              "      <th>temp</th>\n",
              "      <th>atemp</th>\n",
              "      <th>hum</th>\n",
              "      <th>windspeed</th>\n",
              "      <th>casual</th>\n",
              "      <th>registered</th>\n",
              "      <th>cnt</th>\n",
              "    </tr>\n",
              "  </thead>\n",
              "  <tbody>\n",
              "    <tr>\n",
              "      <th>0</th>\n",
              "      <td>1</td>\n",
              "      <td>2011-01-01</td>\n",
              "      <td>1</td>\n",
              "      <td>0</td>\n",
              "      <td>1</td>\n",
              "      <td>0</td>\n",
              "      <td>6</td>\n",
              "      <td>0</td>\n",
              "      <td>2</td>\n",
              "      <td>0.344167</td>\n",
              "      <td>0.363625</td>\n",
              "      <td>0.805833</td>\n",
              "      <td>0.160446</td>\n",
              "      <td>331</td>\n",
              "      <td>654</td>\n",
              "      <td>985</td>\n",
              "    </tr>\n",
              "    <tr>\n",
              "      <th>1</th>\n",
              "      <td>2</td>\n",
              "      <td>2011-01-02</td>\n",
              "      <td>1</td>\n",
              "      <td>0</td>\n",
              "      <td>1</td>\n",
              "      <td>0</td>\n",
              "      <td>0</td>\n",
              "      <td>0</td>\n",
              "      <td>2</td>\n",
              "      <td>0.363478</td>\n",
              "      <td>0.353739</td>\n",
              "      <td>0.696087</td>\n",
              "      <td>0.248539</td>\n",
              "      <td>131</td>\n",
              "      <td>670</td>\n",
              "      <td>801</td>\n",
              "    </tr>\n",
              "    <tr>\n",
              "      <th>2</th>\n",
              "      <td>3</td>\n",
              "      <td>2011-01-03</td>\n",
              "      <td>1</td>\n",
              "      <td>0</td>\n",
              "      <td>1</td>\n",
              "      <td>0</td>\n",
              "      <td>1</td>\n",
              "      <td>1</td>\n",
              "      <td>1</td>\n",
              "      <td>0.196364</td>\n",
              "      <td>0.189405</td>\n",
              "      <td>0.437273</td>\n",
              "      <td>0.248309</td>\n",
              "      <td>120</td>\n",
              "      <td>1229</td>\n",
              "      <td>1349</td>\n",
              "    </tr>\n",
              "    <tr>\n",
              "      <th>3</th>\n",
              "      <td>4</td>\n",
              "      <td>2011-01-04</td>\n",
              "      <td>1</td>\n",
              "      <td>0</td>\n",
              "      <td>1</td>\n",
              "      <td>0</td>\n",
              "      <td>2</td>\n",
              "      <td>1</td>\n",
              "      <td>1</td>\n",
              "      <td>0.200000</td>\n",
              "      <td>0.212122</td>\n",
              "      <td>0.590435</td>\n",
              "      <td>0.160296</td>\n",
              "      <td>108</td>\n",
              "      <td>1454</td>\n",
              "      <td>1562</td>\n",
              "    </tr>\n",
              "    <tr>\n",
              "      <th>4</th>\n",
              "      <td>5</td>\n",
              "      <td>2011-01-05</td>\n",
              "      <td>1</td>\n",
              "      <td>0</td>\n",
              "      <td>1</td>\n",
              "      <td>0</td>\n",
              "      <td>3</td>\n",
              "      <td>1</td>\n",
              "      <td>1</td>\n",
              "      <td>0.226957</td>\n",
              "      <td>0.229270</td>\n",
              "      <td>0.436957</td>\n",
              "      <td>0.186900</td>\n",
              "      <td>82</td>\n",
              "      <td>1518</td>\n",
              "      <td>1600</td>\n",
              "    </tr>\n",
              "  </tbody>\n",
              "</table>\n",
              "</div>"
            ],
            "text/plain": [
              "   instant      dteday  season  yr  ...  windspeed  casual  registered   cnt\n",
              "0        1  2011-01-01       1   0  ...   0.160446     331         654   985\n",
              "1        2  2011-01-02       1   0  ...   0.248539     131         670   801\n",
              "2        3  2011-01-03       1   0  ...   0.248309     120        1229  1349\n",
              "3        4  2011-01-04       1   0  ...   0.160296     108        1454  1562\n",
              "4        5  2011-01-05       1   0  ...   0.186900      82        1518  1600\n",
              "\n",
              "[5 rows x 16 columns]"
            ]
          },
          "metadata": {
            "tags": []
          }
        }
      ]
    },
    {
      "cell_type": "code",
      "metadata": {
        "id": "N8NZ4bj3IwCv",
        "outputId": "589443ec-f55d-455b-f07c-c758d77757ce",
        "colab": {
          "base_uri": "https://localhost:8080/",
          "height": 284
        }
      },
      "source": [
        "display(bikeshare.describe())"
      ],
      "execution_count": null,
      "outputs": [
        {
          "output_type": "display_data",
          "data": {
            "text/html": [
              "<div>\n",
              "<style scoped>\n",
              "    .dataframe tbody tr th:only-of-type {\n",
              "        vertical-align: middle;\n",
              "    }\n",
              "\n",
              "    .dataframe tbody tr th {\n",
              "        vertical-align: top;\n",
              "    }\n",
              "\n",
              "    .dataframe thead th {\n",
              "        text-align: right;\n",
              "    }\n",
              "</style>\n",
              "<table border=\"1\" class=\"dataframe\">\n",
              "  <thead>\n",
              "    <tr style=\"text-align: right;\">\n",
              "      <th></th>\n",
              "      <th>instant</th>\n",
              "      <th>season</th>\n",
              "      <th>yr</th>\n",
              "      <th>mnth</th>\n",
              "      <th>holiday</th>\n",
              "      <th>weekday</th>\n",
              "      <th>workingday</th>\n",
              "      <th>weathersit</th>\n",
              "      <th>temp</th>\n",
              "      <th>atemp</th>\n",
              "      <th>hum</th>\n",
              "      <th>windspeed</th>\n",
              "      <th>casual</th>\n",
              "      <th>registered</th>\n",
              "      <th>cnt</th>\n",
              "    </tr>\n",
              "  </thead>\n",
              "  <tbody>\n",
              "    <tr>\n",
              "      <th>count</th>\n",
              "      <td>731.000000</td>\n",
              "      <td>731.000000</td>\n",
              "      <td>731.000000</td>\n",
              "      <td>731.000000</td>\n",
              "      <td>731.000000</td>\n",
              "      <td>731.000000</td>\n",
              "      <td>731.000000</td>\n",
              "      <td>731.000000</td>\n",
              "      <td>731.000000</td>\n",
              "      <td>731.000000</td>\n",
              "      <td>731.000000</td>\n",
              "      <td>731.000000</td>\n",
              "      <td>731.000000</td>\n",
              "      <td>731.000000</td>\n",
              "      <td>731.000000</td>\n",
              "    </tr>\n",
              "    <tr>\n",
              "      <th>mean</th>\n",
              "      <td>366.000000</td>\n",
              "      <td>2.496580</td>\n",
              "      <td>0.500684</td>\n",
              "      <td>6.519836</td>\n",
              "      <td>0.028728</td>\n",
              "      <td>2.997264</td>\n",
              "      <td>0.683995</td>\n",
              "      <td>1.395349</td>\n",
              "      <td>0.495385</td>\n",
              "      <td>0.474354</td>\n",
              "      <td>0.627894</td>\n",
              "      <td>0.190486</td>\n",
              "      <td>848.176471</td>\n",
              "      <td>3656.172367</td>\n",
              "      <td>4504.348837</td>\n",
              "    </tr>\n",
              "    <tr>\n",
              "      <th>std</th>\n",
              "      <td>211.165812</td>\n",
              "      <td>1.110807</td>\n",
              "      <td>0.500342</td>\n",
              "      <td>3.451913</td>\n",
              "      <td>0.167155</td>\n",
              "      <td>2.004787</td>\n",
              "      <td>0.465233</td>\n",
              "      <td>0.544894</td>\n",
              "      <td>0.183051</td>\n",
              "      <td>0.162961</td>\n",
              "      <td>0.142429</td>\n",
              "      <td>0.077498</td>\n",
              "      <td>686.622488</td>\n",
              "      <td>1560.256377</td>\n",
              "      <td>1937.211452</td>\n",
              "    </tr>\n",
              "    <tr>\n",
              "      <th>min</th>\n",
              "      <td>1.000000</td>\n",
              "      <td>1.000000</td>\n",
              "      <td>0.000000</td>\n",
              "      <td>1.000000</td>\n",
              "      <td>0.000000</td>\n",
              "      <td>0.000000</td>\n",
              "      <td>0.000000</td>\n",
              "      <td>1.000000</td>\n",
              "      <td>0.059130</td>\n",
              "      <td>0.079070</td>\n",
              "      <td>0.000000</td>\n",
              "      <td>0.022392</td>\n",
              "      <td>2.000000</td>\n",
              "      <td>20.000000</td>\n",
              "      <td>22.000000</td>\n",
              "    </tr>\n",
              "    <tr>\n",
              "      <th>25%</th>\n",
              "      <td>183.500000</td>\n",
              "      <td>2.000000</td>\n",
              "      <td>0.000000</td>\n",
              "      <td>4.000000</td>\n",
              "      <td>0.000000</td>\n",
              "      <td>1.000000</td>\n",
              "      <td>0.000000</td>\n",
              "      <td>1.000000</td>\n",
              "      <td>0.337083</td>\n",
              "      <td>0.337842</td>\n",
              "      <td>0.520000</td>\n",
              "      <td>0.134950</td>\n",
              "      <td>315.500000</td>\n",
              "      <td>2497.000000</td>\n",
              "      <td>3152.000000</td>\n",
              "    </tr>\n",
              "    <tr>\n",
              "      <th>50%</th>\n",
              "      <td>366.000000</td>\n",
              "      <td>3.000000</td>\n",
              "      <td>1.000000</td>\n",
              "      <td>7.000000</td>\n",
              "      <td>0.000000</td>\n",
              "      <td>3.000000</td>\n",
              "      <td>1.000000</td>\n",
              "      <td>1.000000</td>\n",
              "      <td>0.498333</td>\n",
              "      <td>0.486733</td>\n",
              "      <td>0.626667</td>\n",
              "      <td>0.180975</td>\n",
              "      <td>713.000000</td>\n",
              "      <td>3662.000000</td>\n",
              "      <td>4548.000000</td>\n",
              "    </tr>\n",
              "    <tr>\n",
              "      <th>75%</th>\n",
              "      <td>548.500000</td>\n",
              "      <td>3.000000</td>\n",
              "      <td>1.000000</td>\n",
              "      <td>10.000000</td>\n",
              "      <td>0.000000</td>\n",
              "      <td>5.000000</td>\n",
              "      <td>1.000000</td>\n",
              "      <td>2.000000</td>\n",
              "      <td>0.655417</td>\n",
              "      <td>0.608602</td>\n",
              "      <td>0.730209</td>\n",
              "      <td>0.233214</td>\n",
              "      <td>1096.000000</td>\n",
              "      <td>4776.500000</td>\n",
              "      <td>5956.000000</td>\n",
              "    </tr>\n",
              "    <tr>\n",
              "      <th>max</th>\n",
              "      <td>731.000000</td>\n",
              "      <td>4.000000</td>\n",
              "      <td>1.000000</td>\n",
              "      <td>12.000000</td>\n",
              "      <td>1.000000</td>\n",
              "      <td>6.000000</td>\n",
              "      <td>1.000000</td>\n",
              "      <td>3.000000</td>\n",
              "      <td>0.861667</td>\n",
              "      <td>0.840896</td>\n",
              "      <td>0.972500</td>\n",
              "      <td>0.507463</td>\n",
              "      <td>3410.000000</td>\n",
              "      <td>6946.000000</td>\n",
              "      <td>8714.000000</td>\n",
              "    </tr>\n",
              "  </tbody>\n",
              "</table>\n",
              "</div>"
            ],
            "text/plain": [
              "          instant      season  ...   registered          cnt\n",
              "count  731.000000  731.000000  ...   731.000000   731.000000\n",
              "mean   366.000000    2.496580  ...  3656.172367  4504.348837\n",
              "std    211.165812    1.110807  ...  1560.256377  1937.211452\n",
              "min      1.000000    1.000000  ...    20.000000    22.000000\n",
              "25%    183.500000    2.000000  ...  2497.000000  3152.000000\n",
              "50%    366.000000    3.000000  ...  3662.000000  4548.000000\n",
              "75%    548.500000    3.000000  ...  4776.500000  5956.000000\n",
              "max    731.000000    4.000000  ...  6946.000000  8714.000000\n",
              "\n",
              "[8 rows x 15 columns]"
            ]
          },
          "metadata": {
            "tags": []
          }
        }
      ]
    },
    {
      "cell_type": "markdown",
      "metadata": {
        "id": "vFKCw08dKXVJ"
      },
      "source": [
        "**We can also use the groupby function to look at mean stats aggregated by month**"
      ]
    },
    {
      "cell_type": "code",
      "metadata": {
        "id": "LqBuiX8vKXVO",
        "outputId": "bcc1d846-87a9-4cf6-c021-d21ca8417c36",
        "colab": {
          "base_uri": "https://localhost:8080/",
          "height": 432
        }
      },
      "source": [
        "bikeshare.groupby('mnth').mean()"
      ],
      "execution_count": null,
      "outputs": [
        {
          "output_type": "execute_result",
          "data": {
            "text/html": [
              "<div>\n",
              "<style scoped>\n",
              "    .dataframe tbody tr th:only-of-type {\n",
              "        vertical-align: middle;\n",
              "    }\n",
              "\n",
              "    .dataframe tbody tr th {\n",
              "        vertical-align: top;\n",
              "    }\n",
              "\n",
              "    .dataframe thead th {\n",
              "        text-align: right;\n",
              "    }\n",
              "</style>\n",
              "<table border=\"1\" class=\"dataframe\">\n",
              "  <thead>\n",
              "    <tr style=\"text-align: right;\">\n",
              "      <th></th>\n",
              "      <th>instant</th>\n",
              "      <th>season</th>\n",
              "      <th>yr</th>\n",
              "      <th>holiday</th>\n",
              "      <th>weekday</th>\n",
              "      <th>workingday</th>\n",
              "      <th>weathersit</th>\n",
              "      <th>temp</th>\n",
              "      <th>atemp</th>\n",
              "      <th>hum</th>\n",
              "      <th>windspeed</th>\n",
              "      <th>casual</th>\n",
              "      <th>registered</th>\n",
              "      <th>cnt</th>\n",
              "    </tr>\n",
              "    <tr>\n",
              "      <th>mnth</th>\n",
              "      <th></th>\n",
              "      <th></th>\n",
              "      <th></th>\n",
              "      <th></th>\n",
              "      <th></th>\n",
              "      <th></th>\n",
              "      <th></th>\n",
              "      <th></th>\n",
              "      <th></th>\n",
              "      <th></th>\n",
              "      <th></th>\n",
              "      <th></th>\n",
              "      <th></th>\n",
              "      <th></th>\n",
              "    </tr>\n",
              "  </thead>\n",
              "  <tbody>\n",
              "    <tr>\n",
              "      <th>1</th>\n",
              "      <td>198.50000</td>\n",
              "      <td>1.000000</td>\n",
              "      <td>0.500000</td>\n",
              "      <td>0.048387</td>\n",
              "      <td>2.870968</td>\n",
              "      <td>0.645161</td>\n",
              "      <td>1.419355</td>\n",
              "      <td>0.236444</td>\n",
              "      <td>0.239796</td>\n",
              "      <td>0.585828</td>\n",
              "      <td>0.206303</td>\n",
              "      <td>194.225806</td>\n",
              "      <td>1982.112903</td>\n",
              "      <td>2176.338710</td>\n",
              "    </tr>\n",
              "    <tr>\n",
              "      <th>2</th>\n",
              "      <td>231.45614</td>\n",
              "      <td>1.000000</td>\n",
              "      <td>0.508772</td>\n",
              "      <td>0.035088</td>\n",
              "      <td>3.000000</td>\n",
              "      <td>0.684211</td>\n",
              "      <td>1.368421</td>\n",
              "      <td>0.299226</td>\n",
              "      <td>0.299731</td>\n",
              "      <td>0.567465</td>\n",
              "      <td>0.215684</td>\n",
              "      <td>262.508772</td>\n",
              "      <td>2392.789474</td>\n",
              "      <td>2655.298246</td>\n",
              "    </tr>\n",
              "    <tr>\n",
              "      <th>3</th>\n",
              "      <td>258.00000</td>\n",
              "      <td>1.354839</td>\n",
              "      <td>0.500000</td>\n",
              "      <td>0.000000</td>\n",
              "      <td>3.096774</td>\n",
              "      <td>0.725806</td>\n",
              "      <td>1.451613</td>\n",
              "      <td>0.390539</td>\n",
              "      <td>0.381954</td>\n",
              "      <td>0.588475</td>\n",
              "      <td>0.222699</td>\n",
              "      <td>716.838710</td>\n",
              "      <td>2975.419355</td>\n",
              "      <td>3692.258065</td>\n",
              "    </tr>\n",
              "    <tr>\n",
              "      <th>4</th>\n",
              "      <td>288.50000</td>\n",
              "      <td>2.000000</td>\n",
              "      <td>0.500000</td>\n",
              "      <td>0.033333</td>\n",
              "      <td>3.000000</td>\n",
              "      <td>0.666667</td>\n",
              "      <td>1.416667</td>\n",
              "      <td>0.469999</td>\n",
              "      <td>0.457081</td>\n",
              "      <td>0.588063</td>\n",
              "      <td>0.234482</td>\n",
              "      <td>1013.366667</td>\n",
              "      <td>3471.533333</td>\n",
              "      <td>4484.900000</td>\n",
              "    </tr>\n",
              "    <tr>\n",
              "      <th>5</th>\n",
              "      <td>319.00000</td>\n",
              "      <td>2.000000</td>\n",
              "      <td>0.500000</td>\n",
              "      <td>0.032258</td>\n",
              "      <td>2.903226</td>\n",
              "      <td>0.693548</td>\n",
              "      <td>1.403226</td>\n",
              "      <td>0.594798</td>\n",
              "      <td>0.565662</td>\n",
              "      <td>0.688958</td>\n",
              "      <td>0.182989</td>\n",
              "      <td>1214.274194</td>\n",
              "      <td>4135.500000</td>\n",
              "      <td>5349.774194</td>\n",
              "    </tr>\n",
              "    <tr>\n",
              "      <th>6</th>\n",
              "      <td>349.50000</td>\n",
              "      <td>2.333333</td>\n",
              "      <td>0.500000</td>\n",
              "      <td>0.000000</td>\n",
              "      <td>3.100000</td>\n",
              "      <td>0.716667</td>\n",
              "      <td>1.233333</td>\n",
              "      <td>0.684097</td>\n",
              "      <td>0.638246</td>\n",
              "      <td>0.575806</td>\n",
              "      <td>0.185420</td>\n",
              "      <td>1231.766667</td>\n",
              "      <td>4540.600000</td>\n",
              "      <td>5772.366667</td>\n",
              "    </tr>\n",
              "    <tr>\n",
              "      <th>7</th>\n",
              "      <td>380.00000</td>\n",
              "      <td>3.000000</td>\n",
              "      <td>0.500000</td>\n",
              "      <td>0.032258</td>\n",
              "      <td>2.935484</td>\n",
              "      <td>0.661290</td>\n",
              "      <td>1.193548</td>\n",
              "      <td>0.755470</td>\n",
              "      <td>0.704094</td>\n",
              "      <td>0.597876</td>\n",
              "      <td>0.166059</td>\n",
              "      <td>1260.596774</td>\n",
              "      <td>4303.080645</td>\n",
              "      <td>5563.677419</td>\n",
              "    </tr>\n",
              "    <tr>\n",
              "      <th>8</th>\n",
              "      <td>411.00000</td>\n",
              "      <td>3.000000</td>\n",
              "      <td>0.500000</td>\n",
              "      <td>0.000000</td>\n",
              "      <td>3.000000</td>\n",
              "      <td>0.741935</td>\n",
              "      <td>1.306452</td>\n",
              "      <td>0.708582</td>\n",
              "      <td>0.651475</td>\n",
              "      <td>0.637730</td>\n",
              "      <td>0.172918</td>\n",
              "      <td>1161.919355</td>\n",
              "      <td>4502.500000</td>\n",
              "      <td>5664.419355</td>\n",
              "    </tr>\n",
              "    <tr>\n",
              "      <th>9</th>\n",
              "      <td>441.50000</td>\n",
              "      <td>3.266667</td>\n",
              "      <td>0.500000</td>\n",
              "      <td>0.033333</td>\n",
              "      <td>3.050000</td>\n",
              "      <td>0.666667</td>\n",
              "      <td>1.500000</td>\n",
              "      <td>0.616485</td>\n",
              "      <td>0.579299</td>\n",
              "      <td>0.714714</td>\n",
              "      <td>0.165945</td>\n",
              "      <td>1172.050000</td>\n",
              "      <td>4594.466667</td>\n",
              "      <td>5766.516667</td>\n",
              "    </tr>\n",
              "    <tr>\n",
              "      <th>10</th>\n",
              "      <td>472.00000</td>\n",
              "      <td>4.000000</td>\n",
              "      <td>0.500000</td>\n",
              "      <td>0.032258</td>\n",
              "      <td>2.919355</td>\n",
              "      <td>0.677419</td>\n",
              "      <td>1.564516</td>\n",
              "      <td>0.485012</td>\n",
              "      <td>0.471973</td>\n",
              "      <td>0.693761</td>\n",
              "      <td>0.175205</td>\n",
              "      <td>963.870968</td>\n",
              "      <td>4235.354839</td>\n",
              "      <td>5199.225806</td>\n",
              "    </tr>\n",
              "    <tr>\n",
              "      <th>11</th>\n",
              "      <td>502.50000</td>\n",
              "      <td>4.000000</td>\n",
              "      <td>0.500000</td>\n",
              "      <td>0.066667</td>\n",
              "      <td>3.033333</td>\n",
              "      <td>0.666667</td>\n",
              "      <td>1.350000</td>\n",
              "      <td>0.369220</td>\n",
              "      <td>0.367359</td>\n",
              "      <td>0.624876</td>\n",
              "      <td>0.183801</td>\n",
              "      <td>610.050000</td>\n",
              "      <td>3637.133333</td>\n",
              "      <td>4247.183333</td>\n",
              "    </tr>\n",
              "    <tr>\n",
              "      <th>12</th>\n",
              "      <td>533.00000</td>\n",
              "      <td>2.935484</td>\n",
              "      <td>0.500000</td>\n",
              "      <td>0.032258</td>\n",
              "      <td>3.064516</td>\n",
              "      <td>0.661290</td>\n",
              "      <td>1.532258</td>\n",
              "      <td>0.324031</td>\n",
              "      <td>0.326160</td>\n",
              "      <td>0.666041</td>\n",
              "      <td>0.176609</td>\n",
              "      <td>349.887097</td>\n",
              "      <td>3053.919355</td>\n",
              "      <td>3403.806452</td>\n",
              "    </tr>\n",
              "  </tbody>\n",
              "</table>\n",
              "</div>"
            ],
            "text/plain": [
              "        instant    season        yr  ...       casual   registered          cnt\n",
              "mnth                                 ...                                       \n",
              "1     198.50000  1.000000  0.500000  ...   194.225806  1982.112903  2176.338710\n",
              "2     231.45614  1.000000  0.508772  ...   262.508772  2392.789474  2655.298246\n",
              "3     258.00000  1.354839  0.500000  ...   716.838710  2975.419355  3692.258065\n",
              "4     288.50000  2.000000  0.500000  ...  1013.366667  3471.533333  4484.900000\n",
              "5     319.00000  2.000000  0.500000  ...  1214.274194  4135.500000  5349.774194\n",
              "6     349.50000  2.333333  0.500000  ...  1231.766667  4540.600000  5772.366667\n",
              "7     380.00000  3.000000  0.500000  ...  1260.596774  4303.080645  5563.677419\n",
              "8     411.00000  3.000000  0.500000  ...  1161.919355  4502.500000  5664.419355\n",
              "9     441.50000  3.266667  0.500000  ...  1172.050000  4594.466667  5766.516667\n",
              "10    472.00000  4.000000  0.500000  ...   963.870968  4235.354839  5199.225806\n",
              "11    502.50000  4.000000  0.500000  ...   610.050000  3637.133333  4247.183333\n",
              "12    533.00000  2.935484  0.500000  ...   349.887097  3053.919355  3403.806452\n",
              "\n",
              "[12 rows x 14 columns]"
            ]
          },
          "metadata": {
            "tags": []
          },
          "execution_count": 19
        }
      ]
    },
    {
      "cell_type": "markdown",
      "metadata": {
        "id": "QkJdlF2gKXVS"
      },
      "source": [
        "# Exercise 2.3 Plot the variation of **count** versus **month**. Is  there a seasonal change?"
      ]
    },
    {
      "cell_type": "code",
      "metadata": {
        "id": "OnhFvlbfKXVW"
      },
      "source": [
        "## Your code here"
      ],
      "execution_count": null,
      "outputs": []
    },
    {
      "cell_type": "markdown",
      "metadata": {
        "id": "pwrdl7oGsKdO"
      },
      "source": [
        "## We can also scatter plot Temp vs. A-Temp."
      ]
    },
    {
      "cell_type": "code",
      "metadata": {
        "id": "apRQhksUKXVb",
        "outputId": "ea046242-d651-4fc8-d688-7ff604ef18c7",
        "colab": {
          "base_uri": "https://localhost:8080/",
          "height": 295
        }
      },
      "source": [
        "plt.plot(bikeshare['temp'], bikeshare['atemp'],'o', alpha =0.5)\n",
        "plt.xlabel('Temp')\n",
        "plt.ylabel('A - Temp')\n",
        "plt.title('A-Temp vs Temp')\n",
        "plt.show()"
      ],
      "execution_count": null,
      "outputs": [
        {
          "output_type": "display_data",
          "data": {
            "image/png": "[encoded data removed]",
            "text/plain": [
              "<Figure size 432x288 with 1 Axes>"
            ]
          },
          "metadata": {
            "tags": [],
            "needs_background": "light"
          }
        }
      ]
    },
    {
      "cell_type": "markdown",
      "metadata": {
        "id": "RFKwJKJisa1O"
      },
      "source": [
        "Clean the data by removing the \"weird\" point"
      ]
    },
    {
      "cell_type": "code",
      "metadata": {
        "id": "13KvH8SsKXVr",
        "outputId": "c4f1798f-c026-415d-a1d4-cad86f8ae65b",
        "colab": {
          "base_uri": "https://localhost:8080/",
          "height": 77
        }
      },
      "source": [
        "display(bikeshare[(bikeshare['temp']>0.7) & (bikeshare['atemp']<0.3)])"
      ],
      "execution_count": null,
      "outputs": [
        {
          "output_type": "display_data",
          "data": {
            "text/html": [
              "<div>\n",
              "<style scoped>\n",
              "    .dataframe tbody tr th:only-of-type {\n",
              "        vertical-align: middle;\n",
              "    }\n",
              "\n",
              "    .dataframe tbody tr th {\n",
              "        vertical-align: top;\n",
              "    }\n",
              "\n",
              "    .dataframe thead th {\n",
              "        text-align: right;\n",
              "    }\n",
              "</style>\n",
              "<table border=\"1\" class=\"dataframe\">\n",
              "  <thead>\n",
              "    <tr style=\"text-align: right;\">\n",
              "      <th></th>\n",
              "      <th>instant</th>\n",
              "      <th>dteday</th>\n",
              "      <th>season</th>\n",
              "      <th>yr</th>\n",
              "      <th>mnth</th>\n",
              "      <th>holiday</th>\n",
              "      <th>weekday</th>\n",
              "      <th>workingday</th>\n",
              "      <th>weathersit</th>\n",
              "      <th>temp</th>\n",
              "      <th>atemp</th>\n",
              "      <th>hum</th>\n",
              "      <th>windspeed</th>\n",
              "      <th>casual</th>\n",
              "      <th>registered</th>\n",
              "      <th>cnt</th>\n",
              "    </tr>\n",
              "  </thead>\n",
              "  <tbody>\n",
              "    <tr>\n",
              "      <th>594</th>\n",
              "      <td>595</td>\n",
              "      <td>2012-08-17</td>\n",
              "      <td>3</td>\n",
              "      <td>1</td>\n",
              "      <td>8</td>\n",
              "      <td>0</td>\n",
              "      <td>5</td>\n",
              "      <td>1</td>\n",
              "      <td>1</td>\n",
              "      <td>0.723333</td>\n",
              "      <td>0.2424</td>\n",
              "      <td>0.570833</td>\n",
              "      <td>0.231354</td>\n",
              "      <td>1483</td>\n",
              "      <td>5665</td>\n",
              "      <td>7148</td>\n",
              "    </tr>\n",
              "  </tbody>\n",
              "</table>\n",
              "</div>"
            ],
            "text/plain": [
              "     instant      dteday  season  yr  ...  windspeed  casual  registered   cnt\n",
              "594      595  2012-08-17       3   1  ...   0.231354    1483        5665  7148\n",
              "\n",
              "[1 rows x 16 columns]"
            ]
          },
          "metadata": {
            "tags": []
          }
        }
      ]
    },
    {
      "cell_type": "code",
      "metadata": {
        "id": "lm-yQoNBKXVt"
      },
      "source": [
        "bikeshare= bikeshare.drop([594])"
      ],
      "execution_count": null,
      "outputs": []
    },
    {
      "cell_type": "code",
      "metadata": {
        "id": "iRDAZyEB2o5N",
        "outputId": "90617d6b-1786-451a-ad7b-decc9d37d4f5",
        "colab": {
          "base_uri": "https://localhost:8080/",
          "height": 47
        }
      },
      "source": [
        "display(bikeshare[(bikeshare['temp']>0.7) & (bikeshare['atemp']<0.3)])"
      ],
      "execution_count": null,
      "outputs": [
        {
          "output_type": "display_data",
          "data": {
            "text/html": [
              "<div>\n",
              "<style scoped>\n",
              "    .dataframe tbody tr th:only-of-type {\n",
              "        vertical-align: middle;\n",
              "    }\n",
              "\n",
              "    .dataframe tbody tr th {\n",
              "        vertical-align: top;\n",
              "    }\n",
              "\n",
              "    .dataframe thead th {\n",
              "        text-align: right;\n",
              "    }\n",
              "</style>\n",
              "<table border=\"1\" class=\"dataframe\">\n",
              "  <thead>\n",
              "    <tr style=\"text-align: right;\">\n",
              "      <th></th>\n",
              "      <th>instant</th>\n",
              "      <th>dteday</th>\n",
              "      <th>season</th>\n",
              "      <th>yr</th>\n",
              "      <th>mnth</th>\n",
              "      <th>holiday</th>\n",
              "      <th>weekday</th>\n",
              "      <th>workingday</th>\n",
              "      <th>weathersit</th>\n",
              "      <th>temp</th>\n",
              "      <th>atemp</th>\n",
              "      <th>hum</th>\n",
              "      <th>windspeed</th>\n",
              "      <th>casual</th>\n",
              "      <th>registered</th>\n",
              "      <th>cnt</th>\n",
              "    </tr>\n",
              "  </thead>\n",
              "  <tbody>\n",
              "  </tbody>\n",
              "</table>\n",
              "</div>"
            ],
            "text/plain": [
              "Empty DataFrame\n",
              "Columns: [instant, dteday, season, yr, mnth, holiday, weekday, workingday, weathersit, temp, atemp, hum, windspeed, casual, registered, cnt]\n",
              "Index: []"
            ]
          },
          "metadata": {
            "tags": []
          }
        }
      ]
    },
    {
      "cell_type": "code",
      "metadata": {
        "id": "vZ6e6O0d4AmF",
        "outputId": "f0e9640c-ddf4-4c8b-f405-d918f1797f69",
        "colab": {
          "base_uri": "https://localhost:8080/",
          "height": 295
        }
      },
      "source": [
        "new = bikeshare.sort_values(['temp','atemp'])\n",
        "plt.plot(new['temp'], new['atemp'],'o')\n",
        "plt.xlabel('Temp')\n",
        "plt.ylabel('A - Temp')\n",
        "plt.title('A - Temp vs Temp')\n",
        "plt.show()"
      ],
      "execution_count": null,
      "outputs": [
        {
          "output_type": "display_data",
          "data": {
            "image/png": "[encoded data removed]",
            "text/plain": [
              "<Figure size 432x288 with 1 Axes>"
            ]
          },
          "metadata": {
            "tags": [],
            "needs_background": "light"
          }
        }
      ]
    },
    {
      "cell_type": "markdown",
      "metadata": {
        "id": "Mv2dVFSmKXVy"
      },
      "source": [
        "## Split up the data into a training set and a test set using the 'train_test_split' function from sklearn:"
      ]
    },
    {
      "cell_type": "markdown",
      "metadata": {
        "id": "dMKDG8YUKXVy"
      },
      "source": [
        "Having an idea of what the data looks like, we want to predict count. We will be breaking up the data into a **training** and a **testing** set. The **training** set will be used to train the model, while the **testing** set will be used to quantify how well our model does. The **testing** set is a way for us to ensure our model doesn't overfit our training data."
      ]
    },
    {
      "cell_type": "markdown",
      "metadata": {
        "id": "G98ar3oKKXVz"
      },
      "source": [
        "**Let us first create a function that will randomly split the data up into a 70-30 split, with 70% of the data going into the training set:**"
      ]
    },
    {
      "cell_type": "code",
      "metadata": {
        "id": "35UAiPaxKXVz",
        "outputId": "f2405c8a-4554-4c08-dcac-3cbb886374ba",
        "colab": {
          "base_uri": "https://localhost:8080/",
          "height": 50
        }
      },
      "source": [
        "from sklearn.model_selection import train_test_split\n",
        "\n",
        "train_data, test_data = train_test_split(new, test_size=0.30, random_state=42)\n",
        "\n",
        "print(\"Length of Training set = \",len(train_data))\n",
        "print(\"Length of Testing set  = \",len(test_data))"
      ],
      "execution_count": null,
      "outputs": [
        {
          "output_type": "stream",
          "text": [
            "Length of Training set =  511\n",
            "Length of Testing set  =  219\n"
          ],
          "name": "stdout"
        }
      ]
    },
    {
      "cell_type": "markdown",
      "metadata": {
        "id": "jx4jM-8eKXWA"
      },
      "source": [
        "# Linear Regression\n"
      ]
    },
    {
      "cell_type": "markdown",
      "metadata": {
        "id": "pCisyvS3KXWA"
      },
      "source": [
        "Now, we will fit the data with Linear Regression model. We will use the same training/testing dataset and create our linear regression objects."
      ]
    },
    {
      "cell_type": "code",
      "metadata": {
        "id": "djReJoBTKXWB",
        "outputId": "4dd44e4f-5ab3-4bb9-96d9-3b35537aa874",
        "colab": {
          "base_uri": "https://localhost:8080/",
          "height": 70
        }
      },
      "source": [
        "from sklearn.linear_model import LinearRegression\n",
        "from statsmodels.api import OLS\n",
        "import statsmodels.api as sm\n",
        "\n",
        "#Split Data into X,Y\n",
        "x_train, y_train = train_data['temp'], train_data['atemp']\n",
        "x_test, y_test = test_data['temp'], test_data['atemp']\n",
        "\n",
        "#Add constant\n",
        "x_train_ca = sm.add_constant(x_train)\n",
        "x_test_ca = sm.add_constant(x_test)\n"
      ],
      "execution_count": null,
      "outputs": [
        {
          "output_type": "stream",
          "text": [
            "/usr/local/lib/python3.6/dist-packages/statsmodels/tools/_testing.py:19: FutureWarning: pandas.util.testing is deprecated. Use the functions in the public API at pandas.testing instead.\n",
            "  import pandas.util.testing as tm\n"
          ],
          "name": "stderr"
        }
      ]
    },
    {
      "cell_type": "markdown",
      "metadata": {
        "id": "-nCKH4xGKXWD"
      },
      "source": [
        "**Fit a Linear Regression model using statsmodels and print out the coefficients of `temp` and `const`**\n",
        "\n",
        "*Hint*: StatsModels use a Y followed by X structure while feeding data in contrast to sklearn that uses X followed by Y.\n",
        "\n",
        "Give the name *results* to your fit model"
      ]
    },
    {
      "cell_type": "code",
      "metadata": {
        "id": "vtr6cl3SKXWF",
        "outputId": "636563fb-8dca-41e4-8c35-d7eb238d5400",
        "colab": {
          "base_uri": "https://localhost:8080/",
          "height": 67
        }
      },
      "source": [
        "model = sm.OLS(y_train, x_train_ca)\n",
        "results = model.fit()\n",
        "print(results.params)"
      ],
      "execution_count": null,
      "outputs": [
        {
          "output_type": "stream",
          "text": [
            "const    0.035490\n",
            "temp     0.886722\n",
            "dtype: float64\n"
          ],
          "name": "stdout"
        }
      ]
    },
    {
      "cell_type": "markdown",
      "metadata": {
        "id": "5g9Sj3PduZ5v"
      },
      "source": [
        "# Exercise 2.4"
      ]
    },
    {
      "cell_type": "code",
      "metadata": {
        "id": "jv2_hvfoKXWH",
        "outputId": "acaeff58-011e-47d8-b52a-dd06895a4c00",
        "colab": {
          "base_uri": "https://localhost:8080/",
          "height": 229
        }
      },
      "source": [
        "# Plotting our model\n",
        "fig, axes = plt.subplots(1,2,figsize=(20,6))\n",
        "axes = axes.ravel()\n",
        "\n",
        "## Insert your code here to make the snippet complete\n",
        "\n",
        "for i, ax in enumerate(axes):\n",
        "    ax.set_ylim(0,1)\n",
        "    ax.set_xlabel('Temperature')\n",
        "    ax.set_ylabel('# of Rides')\n",
        "    ax.legend()"
      ],
      "execution_count": null,
      "outputs": [
        {
          "output_type": "error",
          "ename": "NameError",
          "evalue": "ignored",
          "traceback": [
            "\u001b[0;31m---------------------------------------------------------------------------\u001b[0m",
            "\u001b[0;31mNameError\u001b[0m                                 Traceback (most recent call last)",
            "\u001b[0;32m<ipython-input-4-8ff92cabdb5e>\u001b[0m in \u001b[0;36m<module>\u001b[0;34m()\u001b[0m\n\u001b[1;32m      1\u001b[0m \u001b[0;31m# Plotting our model\u001b[0m\u001b[0;34m\u001b[0m\u001b[0;34m\u001b[0m\u001b[0;34m\u001b[0m\u001b[0m\n\u001b[0;32m----> 2\u001b[0;31m \u001b[0mfig\u001b[0m\u001b[0;34m,\u001b[0m \u001b[0maxes\u001b[0m \u001b[0;34m=\u001b[0m \u001b[0mplt\u001b[0m\u001b[0;34m.\u001b[0m\u001b[0msubplots\u001b[0m\u001b[0;34m(\u001b[0m\u001b[0;36m1\u001b[0m\u001b[0;34m,\u001b[0m\u001b[0;36m2\u001b[0m\u001b[0;34m,\u001b[0m\u001b[0mfigsize\u001b[0m\u001b[0;34m=\u001b[0m\u001b[0;34m(\u001b[0m\u001b[0;36m20\u001b[0m\u001b[0;34m,\u001b[0m\u001b[0;36m6\u001b[0m\u001b[0;34m)\u001b[0m\u001b[0;34m)\u001b[0m\u001b[0;34m\u001b[0m\u001b[0;34m\u001b[0m\u001b[0m\n\u001b[0m\u001b[1;32m      3\u001b[0m \u001b[0maxes\u001b[0m \u001b[0;34m=\u001b[0m \u001b[0maxes\u001b[0m\u001b[0;34m.\u001b[0m\u001b[0mravel\u001b[0m\u001b[0;34m(\u001b[0m\u001b[0;34m)\u001b[0m\u001b[0;34m\u001b[0m\u001b[0;34m\u001b[0m\u001b[0m\n\u001b[1;32m      4\u001b[0m \u001b[0;34m\u001b[0m\u001b[0m\n\u001b[1;32m      5\u001b[0m \u001b[0;31m## Insert your code here to make the snippet complete\u001b[0m\u001b[0;34m\u001b[0m\u001b[0;34m\u001b[0m\u001b[0;34m\u001b[0m\u001b[0m\n",
            "\u001b[0;31mNameError\u001b[0m: name 'plt' is not defined"
          ]
        }
      ]
    },
    {
      "cell_type": "code",
      "metadata": {
        "id": "fYT8kFB3KXWJ",
        "outputId": "5d02fa62-88ba-49f3-e513-488b8a0898f7",
        "colab": {
          "base_uri": "https://localhost:8080/",
          "height": 50
        }
      },
      "source": [
        "# Metrics, Performance Evaluation and Helpful functions\n",
        "\n",
        "from sklearn import metrics\n",
        "\n",
        "# To compute the mean squared error (notice that we are now using the TEST set):\n",
        "#\n",
        "print(\"R^2 Score for Linear Regression (Training):\", metrics.r2_score(y_train, results.predict(x_train_ca)))\n",
        "print(\"R^2 Score for Linear Regression (Testing) :\", metrics.r2_score(y_test, results.predict(x_test_ca)))"
      ],
      "execution_count": null,
      "outputs": [
        {
          "output_type": "stream",
          "text": [
            "R^2 Score for Linear Regression (Training): 0.9927802291436597\n",
            "R^2 Score for Linear Regression (Testing) : 0.9940619535647642\n"
          ],
          "name": "stdout"
        }
      ]
    },
    {
      "cell_type": "markdown",
      "metadata": {
        "id": "R7KjKNdCKXWL"
      },
      "source": [
        "**Check out `results.summary()` and pay close attention to the table that shows up**"
      ]
    },
    {
      "cell_type": "code",
      "metadata": {
        "id": "QQkFEEahKXWM",
        "outputId": "ac8b7488-8ef2-41ea-b2c7-774b269105e5",
        "colab": {
          "base_uri": "https://localhost:8080/",
          "height": 426
        }
      },
      "source": [
        "results.summary()"
      ],
      "execution_count": null,
      "outputs": [
        {
          "output_type": "execute_result",
          "data": {
            "text/html": [
              "<table class=\"simpletable\">\n",
              "<caption>OLS Regression Results</caption>\n",
              "<tr>\n",
              "  <th>Dep. Variable:</th>          <td>atemp</td>      <th>  R-squared:         </th> <td>   0.993</td> \n",
              "</tr>\n",
              "<tr>\n",
              "  <th>Model:</th>                   <td>OLS</td>       <th>  Adj. R-squared:    </th> <td>   0.993</td> \n",
              "</tr>\n",
              "<tr>\n",
              "  <th>Method:</th>             <td>Least Squares</td>  <th>  F-statistic:       </th> <td>6.999e+04</td>\n",
              "</tr>\n",
              "<tr>\n",
              "  <th>Date:</th>             <td>Fri, 23 Oct 2020</td> <th>  Prob (F-statistic):</th>  <td>  0.00</td>  \n",
              "</tr>\n",
              "<tr>\n",
              "  <th>Time:</th>                 <td>19:44:19</td>     <th>  Log-Likelihood:    </th> <td>  1456.8</td> \n",
              "</tr>\n",
              "<tr>\n",
              "  <th>No. Observations:</th>      <td>   511</td>      <th>  AIC:               </th> <td>  -2910.</td> \n",
              "</tr>\n",
              "<tr>\n",
              "  <th>Df Residuals:</th>          <td>   509</td>      <th>  BIC:               </th> <td>  -2901.</td> \n",
              "</tr>\n",
              "<tr>\n",
              "  <th>Df Model:</th>              <td>     1</td>      <th>                     </th>     <td> </td>    \n",
              "</tr>\n",
              "<tr>\n",
              "  <th>Covariance Type:</th>      <td>nonrobust</td>    <th>                     </th>     <td> </td>    \n",
              "</tr>\n",
              "</table>\n",
              "<table class=\"simpletable\">\n",
              "<tr>\n",
              "    <td></td>       <th>coef</th>     <th>std err</th>      <th>t</th>      <th>P>|t|</th>  <th>[0.025</th>    <th>0.975]</th>  \n",
              "</tr>\n",
              "<tr>\n",
              "  <th>const</th> <td>    0.0355</td> <td>    0.002</td> <td>   19.774</td> <td> 0.000</td> <td>    0.032</td> <td>    0.039</td>\n",
              "</tr>\n",
              "<tr>\n",
              "  <th>temp</th>  <td>    0.8867</td> <td>    0.003</td> <td>  264.560</td> <td> 0.000</td> <td>    0.880</td> <td>    0.893</td>\n",
              "</tr>\n",
              "</table>\n",
              "<table class=\"simpletable\">\n",
              "<tr>\n",
              "  <th>Omnibus:</th>       <td>25.835</td> <th>  Durbin-Watson:     </th> <td>   2.090</td>\n",
              "</tr>\n",
              "<tr>\n",
              "  <th>Prob(Omnibus):</th> <td> 0.000</td> <th>  Jarque-Bera (JB):  </th> <td>  51.740</td>\n",
              "</tr>\n",
              "<tr>\n",
              "  <th>Skew:</th>          <td>-0.294</td> <th>  Prob(JB):          </th> <td>5.82e-12</td>\n",
              "</tr>\n",
              "<tr>\n",
              "  <th>Kurtosis:</th>      <td> 4.444</td> <th>  Cond. No.          </th> <td>    6.81</td>\n",
              "</tr>\n",
              "</table><br/><br/>Warnings:<br/>[1] Standard Errors assume that the covariance matrix of the errors is correctly specified."
            ],
            "text/plain": [
              "<class 'statsmodels.iolib.summary.Summary'>\n",
              "\"\"\"\n",
              "                            OLS Regression Results                            \n",
              "==============================================================================\n",
              "Dep. Variable:                  atemp   R-squared:                       0.993\n",
              "Model:                            OLS   Adj. R-squared:                  0.993\n",
              "Method:                 Least Squares   F-statistic:                 6.999e+04\n",
              "Date:                Fri, 23 Oct 2020   Prob (F-statistic):               0.00\n",
              "Time:                        19:44:19   Log-Likelihood:                 1456.8\n",
              "No. Observations:                 511   AIC:                            -2910.\n",
              "Df Residuals:                     509   BIC:                            -2901.\n",
              "Df Model:                           1                                         \n",
              "Covariance Type:            nonrobust                                         \n",
              "==============================================================================\n",
              "                 coef    std err          t      P>|t|      [0.025      0.975]\n",
              "------------------------------------------------------------------------------\n",
              "const          0.0355      0.002     19.774      0.000       0.032       0.039\n",
              "temp           0.8867      0.003    264.560      0.000       0.880       0.893\n",
              "==============================================================================\n",
              "Omnibus:                       25.835   Durbin-Watson:                   2.090\n",
              "Prob(Omnibus):                  0.000   Jarque-Bera (JB):               51.740\n",
              "Skew:                          -0.294   Prob(JB):                     5.82e-12\n",
              "Kurtosis:                       4.444   Cond. No.                         6.81\n",
              "==============================================================================\n",
              "\n",
              "Warnings:\n",
              "[1] Standard Errors assume that the covariance matrix of the errors is correctly specified.\n",
              "\"\"\""
            ]
          },
          "metadata": {
            "tags": []
          },
          "execution_count": 86
        }
      ]
    },
    {
      "cell_type": "markdown",
      "metadata": {
        "id": "k6cHoYdyKXWO"
      },
      "source": [
        "### Confidence Intervals\n",
        "\n",
        "In Data Science, a confidence interval (CI) is a type of interval estimate, computed from the statistics of the observed data, that might contain the true value of an unknown population parameter. Simply speaking, a Confidence Interval is a range of values we are fairly sure our true value lies in. \n",
        "\n",
        "It is important to remind ourselves here that Confidence Intervals belong to a parameter and not a statistic. Thus, they represent the window in which the true value exists for the entire population when all we have is a sample.\n",
        "\n",
        "<figure>\n",
        "<left>\n",
        "<img src='https://drive.google.com/uc?id=1qmG1dUHlJ0dKuVz1OxCXuKMPuEnW_Kk0' />\n",
        "</figure>\n",
        "\n",
        "**See if you can implement a 95% confidence interval using statsmodels**"
      ]
    },
    {
      "cell_type": "code",
      "metadata": {
        "id": "a2S9_V64KXWR",
        "outputId": "8835de39-0cca-4880-f0a5-f124fa8ae8d8",
        "colab": {
          "base_uri": "https://localhost:8080/",
          "height": 106
        }
      },
      "source": [
        "# Confidence Interval using Stats Model Summary\n",
        "thresh = 0.05\n",
        "intervals = results.conf_int(alpha=thresh)\n",
        "\n",
        "# Renaming column names\n",
        "first_col = str(thresh/2*100)+\"%\"\n",
        "second_col = str((1-thresh/2)*100)+\"%\"\n",
        "intervals = intervals.rename(columns={0:first_col,1:second_col})\n",
        "display(intervals)"
      ],
      "execution_count": null,
      "outputs": [
        {
          "output_type": "display_data",
          "data": {
            "text/html": [
              "<div>\n",
              "<style scoped>\n",
              "    .dataframe tbody tr th:only-of-type {\n",
              "        vertical-align: middle;\n",
              "    }\n",
              "\n",
              "    .dataframe tbody tr th {\n",
              "        vertical-align: top;\n",
              "    }\n",
              "\n",
              "    .dataframe thead th {\n",
              "        text-align: right;\n",
              "    }\n",
              "</style>\n",
              "<table border=\"1\" class=\"dataframe\">\n",
              "  <thead>\n",
              "    <tr style=\"text-align: right;\">\n",
              "      <th></th>\n",
              "      <th>2.5%</th>\n",
              "      <th>97.5%</th>\n",
              "    </tr>\n",
              "  </thead>\n",
              "  <tbody>\n",
              "    <tr>\n",
              "      <th>const</th>\n",
              "      <td>0.031964</td>\n",
              "      <td>0.039016</td>\n",
              "    </tr>\n",
              "    <tr>\n",
              "      <th>temp</th>\n",
              "      <td>0.880137</td>\n",
              "      <td>0.893307</td>\n",
              "    </tr>\n",
              "  </tbody>\n",
              "</table>\n",
              "</div>"
            ],
            "text/plain": [
              "           2.5%     97.5%\n",
              "const  0.031964  0.039016\n",
              "temp   0.880137  0.893307"
            ]
          },
          "metadata": {
            "tags": []
          }
        }
      ]
    },
    {
      "cell_type": "markdown",
      "metadata": {
        "id": "1svmQzfeKXWT"
      },
      "source": [
        "In the above block of code, ```results.conf_int(alpha=thresh)``` returns a dataframe with columns 0 and 1. We explained Confidence Intervals above where because we assume normal symetric distribution of data, the 95% Confidence Interval means there's 2.5% chance of the true value lying below the values in Column 0 and 2.5% chance of the true value lying above Column 1. "
      ]
    }
  ]
}